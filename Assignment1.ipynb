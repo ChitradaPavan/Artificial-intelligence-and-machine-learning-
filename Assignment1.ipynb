{
  "nbformat": 4,
  "nbformat_minor": 0,
  "metadata": {
    "colab": {
      "provenance": [],
      "authorship_tag": "ABX9TyPAOvkzBnMmLECQaamTxyJ6",
      "include_colab_link": true
    },
    "kernelspec": {
      "name": "python3",
      "display_name": "Python 3"
    },
    "language_info": {
      "name": "python"
    }
  },
  "cells": [
    {
      "cell_type": "markdown",
      "metadata": {
        "id": "view-in-github",
        "colab_type": "text"
      },
      "source": [
        "<a href=\"https://colab.research.google.com/github/ChitradaPavan/Artificial-intelligence-and-machine-learning-/blob/main/Assignment1.ipynb\" target=\"_parent\"><img src=\"https://colab.research.google.com/assets/colab-badge.svg\" alt=\"Open In Colab\"/></a>"
      ]
    },
    {
      "cell_type": "code",
      "execution_count": 1,
      "metadata": {
        "id": "zxfqUObqnLAF"
      },
      "outputs": [],
      "source": [
        "# Task1-create two lists and join those two lists 4"
      ]
    },
    {
      "cell_type": "code",
      "source": [
        "test_list1=[1,14,15,6,5]"
      ],
      "metadata": {
        "id": "ZRJw-yhRvfvb"
      },
      "execution_count": 12,
      "outputs": []
    },
    {
      "cell_type": "code",
      "source": [
        "test_list2=[3,4,7,12,15]"
      ],
      "metadata": {
        "id": "4cMKbH65wj6l"
      },
      "execution_count": 13,
      "outputs": []
    },
    {
      "cell_type": "code",
      "source": [
        "test_list3 = test_list1 + test_list2"
      ],
      "metadata": {
        "id": "7oPJzgx_w04h"
      },
      "execution_count": 14,
      "outputs": []
    },
    {
      "cell_type": "code",
      "source": [
        "print('Joined list : '+str(test_list3))"
      ],
      "metadata": {
        "colab": {
          "base_uri": "https://localhost:8080/"
        },
        "id": "Y7UneFfZyr6M",
        "outputId": "bd178d59-018f-4642-dd01-4662a144deb5"
      },
      "execution_count": 16,
      "outputs": [
        {
          "output_type": "stream",
          "name": "stdout",
          "text": [
            "Joined list : [1, 14, 15, 6, 5, 3, 4, 7, 12, 15]\n"
          ]
        }
      ]
    },
    {
      "cell_type": "code",
      "source": [
        "# Task2-with 'if' statement find the even numbers"
      ],
      "metadata": {
        "id": "vBmZarNAy_X_"
      },
      "execution_count": 17,
      "outputs": []
    },
    {
      "cell_type": "code",
      "source": [
        "number = int(input(\"enter a number:\"))\n",
        "if(number % 2)==0:\n",
        "   print (\"The number is even\")\n",
        "else:\n",
        "   print(\"The number is not even\")"
      ],
      "metadata": {
        "colab": {
          "base_uri": "https://localhost:8080/"
        },
        "id": "S28ziN090va4",
        "outputId": "8a3b690a-0004-4480-b5e6-fefea093ab7f"
      },
      "execution_count": 22,
      "outputs": [
        {
          "output_type": "stream",
          "name": "stdout",
          "text": [
            "enter a number:64\n",
            "The number is even\n"
          ]
        }
      ]
    },
    {
      "cell_type": "code",
      "source": [
        "# Task3-create a dictionary with 3 keys & 2 values for eeach key"
      ],
      "metadata": {
        "id": "b2eoUFoX7bl8"
      },
      "execution_count": 23,
      "outputs": []
    },
    {
      "cell_type": "code",
      "source": [
        "demo = {'first': [1,2],\n",
        "        'second': [3,4],\n",
        "        'third': [5,6]}"
      ],
      "metadata": {
        "id": "LaeNrZzA8QeY"
      },
      "execution_count": 24,
      "outputs": []
    },
    {
      "cell_type": "code",
      "source": [
        "example = demo['first']\n",
        "print(example)"
      ],
      "metadata": {
        "colab": {
          "base_uri": "https://localhost:8080/"
        },
        "id": "n6s_Etz_86yB",
        "outputId": "7048c6dd-d943-4ddb-d6a3-a3be80ee3224"
      },
      "execution_count": 25,
      "outputs": [
        {
          "output_type": "stream",
          "name": "stdout",
          "text": [
            "[1, 2]\n"
          ]
        }
      ]
    },
    {
      "cell_type": "code",
      "source": [
        "# Task4-create a function with 'if' statement which is used to find the odd numbers"
      ],
      "metadata": {
        "id": "EKPhAXGr9MoI"
      },
      "execution_count": 26,
      "outputs": []
    },
    {
      "cell_type": "code",
      "source": [
        "number = int(input(\"enter any number:\"))\n",
        "if(number %2)==0:\n",
        "  print(\"{0}is not an odd number\". format(number))\n",
        "else:\n",
        "    print (\"{0}is an odd number\". format(number))"
      ],
      "metadata": {
        "colab": {
          "base_uri": "https://localhost:8080/"
        },
        "id": "fDmiKWHo9rJC",
        "outputId": "3bf630c3-e47a-49c1-f0f2-dfe392b4f4ed"
      },
      "execution_count": 29,
      "outputs": [
        {
          "output_type": "stream",
          "name": "stdout",
          "text": [
            "enter any number:19\n",
            "19is an odd number\n"
          ]
        }
      ]
    },
    {
      "cell_type": "code",
      "source": [
        "# Task5-write a python function to sum all the numbers in a list\n",
        "  # sample list : (8,2,3,0,7)\n",
        "  # expected output : 20"
      ],
      "metadata": {
        "id": "EhfucyGmAev6"
      },
      "execution_count": 33,
      "outputs": []
    },
    {
      "cell_type": "code",
      "source": [
        "list1=[8,2,3,0,7]"
      ],
      "metadata": {
        "id": "iRLg1VOHDWux"
      },
      "execution_count": 43,
      "outputs": []
    },
    {
      "cell_type": "code",
      "source": [
        "total = sum(list1)"
      ],
      "metadata": {
        "id": "NSv1qDThEcjq"
      },
      "execution_count": 45,
      "outputs": []
    },
    {
      "cell_type": "code",
      "source": [
        "print(\"the sum of elements in list:\",total)"
      ],
      "metadata": {
        "colab": {
          "base_uri": "https://localhost:8080/"
        },
        "id": "9w39Rc0YFYfK",
        "outputId": "4ef3c328-1b1c-482c-86e0-4fd2665a0c1b"
      },
      "execution_count": 46,
      "outputs": [
        {
          "output_type": "stream",
          "name": "stdout",
          "text": [
            "the sum of elements in list: 20\n"
          ]
        }
      ]
    }
  ]
}